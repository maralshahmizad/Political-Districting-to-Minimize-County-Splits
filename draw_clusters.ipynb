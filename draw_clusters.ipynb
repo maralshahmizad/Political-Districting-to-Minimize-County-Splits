{
 "cells": [
  {
   "cell_type": "code",
   "execution_count": null,
   "metadata": {},
   "outputs": [],
   "source": [
    "from clusterings import clusterings\n",
    "from draw import draw_clusters\n",
    "from gerrychain import Graph\n",
    "filepath = 'C:\\\\districting-data-2020\\\\'\n",
    "from util import update_attributes"
   ]
  },
  {
   "cell_type": "code",
   "execution_count": null,
   "metadata": {},
   "outputs": [],
   "source": [
    "for (state, district_type) in clusterings.keys():\n",
    "        \n",
    "    filename = state + '_county.json'\n",
    "    G = Graph.from_json( filepath + filename )\n",
    "    update_attributes(G, state)\n",
    "    \n",
    "    clusters = clusterings[state,district_type]['clusters']\n",
    "    sizes = clusterings[state,district_type]['sizes']\n",
    "\n",
    "    png_filename = state + \"_\" + district_type + \"_clusters.png\" \n",
    "    print(png_filename)\n",
    "    \n",
    "    draw_clusters(G, clusters, sizes, png_filename)\n",
    "    "
   ]
  },
  {
   "cell_type": "code",
   "execution_count": null,
   "metadata": {},
   "outputs": [],
   "source": []
  }
 ],
 "metadata": {
  "kernelspec": {
   "display_name": "Python 3",
   "language": "python",
   "name": "python3"
  },
  "language_info": {
   "codemirror_mode": {
    "name": "ipython",
    "version": 3
   },
   "file_extension": ".py",
   "mimetype": "text/x-python",
   "name": "python",
   "nbconvert_exporter": "python",
   "pygments_lexer": "ipython3",
   "version": "3.7.10"
  }
 },
 "nbformat": 4,
 "nbformat_minor": 4
}
