{
 "cells": [
  {
   "cell_type": "code",
   "execution_count": 1,
   "metadata": {},
   "outputs": [],
   "source": [
    "# Lemma. max_cluster for GA SS is either 31 or 32. \n",
    "\n",
    "# Theorem. max_cluster for GA SS is 32. \n",
    "# Proof idea. We show that 32 clusters is not achievable by breaking the \n",
    "#   problem into cases, each of which has cluster_UB <= 31.\n",
    "\n",
    "state = 'GA'\n",
    "district_type = 'SS'\n",
    "\n",
    "filepath = 'C:\\\\districting-data-2020\\\\'\n",
    "filename = state + '_county.json'\n",
    "\n",
    "import networkx as nx\n",
    "from gerrychain import Graph\n",
    "\n",
    "GC = Graph.from_json( filepath + filename )"
   ]
  },
  {
   "cell_type": "code",
   "execution_count": 2,
   "metadata": {},
   "outputs": [],
   "source": [
    "# # TESTS THE FUNCTION: nx.contracted_nodes()\n",
    "# import matplotlib.pyplot as plt\n",
    "\n",
    "# #####################\n",
    "# print(\"cycle graph:\")\n",
    "# cycle = nx.cycle_graph(5)\n",
    "# names = ['zero', 'one', 'two', 'three', 'four']\n",
    "# for i in cycle.nodes:\n",
    "#     cycle.nodes[i]['TOTPOP'] = 1\n",
    "#     cycle.nodes[i]['NAME20'] = names[i]\n",
    "#     print(i,cycle.nodes[i]['TOTPOP'],cycle.nodes[i]['NAME20'])\n",
    "    \n",
    "# plt.figure(1)\n",
    "# nx.draw(cycle,with_labels=True)\n",
    "\n",
    "\n",
    "# #####################\n",
    "# print(\"contracted cycle graph:\")\n",
    "# contracted_cycle = nx.contracted_nodes(cycle,1,2,self_loops=False)\n",
    "# contracted_cycle.nodes[1]['TOTPOP'] += cycle.nodes[2]['TOTPOP']\n",
    "\n",
    "# for i in contracted_cycle.nodes():\n",
    "#     print(i,contracted_cycle.nodes[i]['TOTPOP'],contracted_cycle.nodes[i]['NAME20'])\n",
    "    \n",
    "# plt.figure(2)\n",
    "# nx.draw(contracted_cycle,with_labels=True)\n",
    "\n",
    "# #####################\n",
    "# print(\"cycle graph (again):\")\n",
    "# for i in cycle.nodes:\n",
    "#     print(i,cycle.nodes[i]['TOTPOP'],cycle.nodes[i]['NAME20'])\n",
    "# plt.figure(3)\n",
    "# nx.draw(cycle,with_labels=True)"
   ]
  },
  {
   "cell_type": "code",
   "execution_count": 3,
   "metadata": {},
   "outputs": [
    {
     "name": "stdout",
     "output_type": "stream",
     "text": [
      "Starting GA with k = 56 and deviation = 0.1\n",
      "Thus, we have L = 181720 and U = 200848\n",
      "Dade County has population: 16251 and its neighbors are: [62]\n"
     ]
    }
   ],
   "source": [
    "# Facts:\n",
    "#  1. Dade County is a leaf vertex in the county graph and its population (16251) is \n",
    "#     less than L (so it can't be in a cluster by itself), so we might as well \n",
    "#     merge it with its neighbor Walker County. \n",
    "\n",
    "from util import update_attributes, get_k_L_U\n",
    "update_attributes(GC, state)   \n",
    "(k,L,U) = get_k_L_U(GC, state, district_type)\n",
    "\n",
    "for i in GC.nodes:\n",
    "    name = GC.nodes[i]['NAME20']\n",
    "    if name == 'Dade':\n",
    "        d = i\n",
    "\n",
    "neighbors = list(GC.neighbors(d))\n",
    "print(\"Dade County has population:\",GC.nodes[d]['TOTPOP'],\"and its neighbors are:\",neighbors)"
   ]
  },
  {
   "cell_type": "code",
   "execution_count": 4,
   "metadata": {},
   "outputs": [],
   "source": [
    "# merge Dade County into Walker County:\n",
    "w = neighbors[0]\n",
    "GC.nodes[w]['TOTPOP'] += GC.nodes[d]['TOTPOP']\n",
    "GC = nx.contracted_nodes(GC,w,d,self_loops=False)"
   ]
  },
  {
   "cell_type": "code",
   "execution_count": 5,
   "metadata": {},
   "outputs": [],
   "source": [
    "import math\n",
    "def cluster_UB(G, U, k):\n",
    "    return k - sum( math.floor( G.nodes[i]['TOTPOP'] / (U+1) ) for i in G.nodes )"
   ]
  },
  {
   "cell_type": "code",
   "execution_count": 6,
   "metadata": {},
   "outputs": [
    {
     "name": "stdout",
     "output_type": "stream",
     "text": [
      "Douglas County has population: 144237 and its neighbors are: ['Fulton', 'Cobb', 'Carroll', 'Paulding'] or [7, 9, 19, 22]\n"
     ]
    }
   ],
   "source": [
    "# 2. Douglas County has population 144237, which is less than L, and so \n",
    "#    must belong to the same cluster as one of its four neighbors. \n",
    "\n",
    "for i in GC.nodes:\n",
    "    name = GC.nodes[i]['NAME20']\n",
    "    if name == 'Douglas':\n",
    "        d = i\n",
    "        \n",
    "names = [ GC.nodes[i]['NAME20'] for i in GC.neighbors(d) ]\n",
    "nodes = [ i for i in GC.neighbors(d) ]\n",
    "print(\"Douglas County has population:\",GC.nodes[d]['TOTPOP'],\"and its neighbors are:\",names,\"or\",nodes)"
   ]
  },
  {
   "cell_type": "code",
   "execution_count": 7,
   "metadata": {},
   "outputs": [],
   "source": [
    "# This creates 4 cases, depending on which neighbor is merged into Douglas:\n",
    "cases = list()\n",
    "\n",
    "for i in GC.neighbors(d):\n",
    "    ipop = GC.nodes[i]['TOTPOP']\n",
    "    case = nx.contracted_nodes(GC, d, i, self_loops=False)\n",
    "    case.nodes[d]['TOTPOP'] += ipop\n",
    "    cases.append( case )"
   ]
  },
  {
   "cell_type": "code",
   "execution_count": 8,
   "metadata": {},
   "outputs": [
    {
     "name": "stdout",
     "output_type": "stream",
     "text": [
      "32\n",
      "32\n",
      "32\n",
      "32\n"
     ]
    }
   ],
   "source": [
    "# So far, each case has cluster_UB = 32.\n",
    "for case in cases:\n",
    "    print(cluster_UB(case,U, k))"
   ]
  },
  {
   "cell_type": "code",
   "execution_count": 9,
   "metadata": {},
   "outputs": [
    {
     "name": "stdout",
     "output_type": "stream",
     "text": [
      "53 Whitfield 102864 + 67872 = 170736\n",
      "62 Walker 83905 + 67872 = 151777\n"
     ]
    }
   ],
   "source": [
    "# 3. Now, Catoosa County has population 67872, which is less than L, and \n",
    "#    so must belong to the same cluster as one of its two neighbors:\n",
    "#       (wh) Whitfield (pop 102864), and\n",
    "#       (w)  Walker (pop 67654, plus Dade's 16251). \n",
    "\n",
    "for i in GC.nodes:\n",
    "    if GC.nodes[i]['NAME20'] == 'Catoosa':\n",
    "        c = i\n",
    "    elif GC.nodes[i]['NAME20'] == 'Whitfield':\n",
    "        wh = i\n",
    "\n",
    "for i in GC.neighbors(c):\n",
    "    print(i,GC.nodes[i]['NAME20'],GC.nodes[i]['TOTPOP'],\"+\",GC.nodes[c]['TOTPOP'],\"=\",GC.nodes[i]['TOTPOP']+GC.nodes[c]['TOTPOP'])"
   ]
  },
  {
   "cell_type": "code",
   "execution_count": 10,
   "metadata": {},
   "outputs": [],
   "source": [
    "# Thus, we can break the 4 cases into 8 (sub)cases:\n",
    "new_cases = list()\n",
    "\n",
    "for case in cases:\n",
    "    for i in case.neighbors(c):\n",
    "        ipop = case.nodes[i]['TOTPOP']\n",
    "        new_case = nx.contracted_nodes( case, c, i, self_loops=False)\n",
    "        new_case.nodes[c]['TOTPOP'] += ipop\n",
    "        new_cases.append( new_case )\n",
    "        \n",
    "cases = new_cases"
   ]
  },
  {
   "cell_type": "code",
   "execution_count": 11,
   "metadata": {},
   "outputs": [
    {
     "name": "stdout",
     "output_type": "stream",
     "text": [
      "32\n",
      "32\n",
      "32\n",
      "32\n",
      "32\n",
      "32\n",
      "32\n",
      "32\n"
     ]
    }
   ],
   "source": [
    "# So far, each subcase has cluster_UB = 32.\n",
    "for case in cases:\n",
    "    print(cluster_UB(case,U, k))"
   ]
  },
  {
   "cell_type": "code",
   "execution_count": 12,
   "metadata": {},
   "outputs": [
    {
     "name": "stdout",
     "output_type": "stream",
     "text": [
      "170736\n",
      "151777\n",
      "170736\n",
      "151777\n",
      "170736\n",
      "151777\n",
      "170736\n",
      "151777\n"
     ]
    }
   ],
   "source": [
    "# 4. Next, in each (sub)case, the population of the (merged) c is still less than L.\n",
    "#    It is either 170736 (if Whitfield merged in) or 151777 (if Walker merged in).\n",
    "for case in cases:\n",
    "    print(case.nodes[c]['TOTPOP'])"
   ]
  },
  {
   "cell_type": "code",
   "execution_count": 13,
   "metadata": {},
   "outputs": [],
   "source": [
    "# So, we can can divide the (sub)cases into new (subsub)cases, depending on which neighbor is merged into c\n",
    "new_cases = list()\n",
    "\n",
    "for case in cases:\n",
    "    for i in case.neighbors(c):\n",
    "        ipop = case.nodes[i]['TOTPOP']\n",
    "        new_case = nx.contracted_nodes( case, c, i, self_loops=False)\n",
    "        new_case.nodes[c]['TOTPOP'] += ipop\n",
    "        new_cases.append( new_case )\n",
    "        \n",
    "cases = new_cases"
   ]
  },
  {
   "cell_type": "code",
   "execution_count": 14,
   "metadata": {},
   "outputs": [
    {
     "name": "stdout",
     "output_type": "stream",
     "text": [
      "31\n",
      "31\n",
      "31\n",
      "31\n",
      "31\n",
      "31\n",
      "32\n",
      "31\n",
      "31\n",
      "31\n",
      "31\n",
      "31\n",
      "31\n",
      "32\n",
      "31\n",
      "31\n",
      "31\n",
      "31\n",
      "31\n",
      "31\n",
      "32\n",
      "31\n",
      "31\n",
      "31\n",
      "31\n",
      "31\n",
      "31\n",
      "32\n",
      "Number of remaining (subsub)cases = 4\n"
     ]
    }
   ],
   "source": [
    "# Most of the cases now have cluster_UB = 31, so we can remove them.\n",
    "for case in cases:\n",
    "    print( cluster_UB(case,U, k) )\n",
    "    \n",
    "cases = [ case for case in cases if cluster_UB(case,U, k) >= 32 ]\n",
    "print(\"Number of remaining (subsub)cases =\",len(cases))"
   ]
  },
  {
   "cell_type": "code",
   "execution_count": 15,
   "metadata": {},
   "outputs": [
    {
     "name": "stdout",
     "output_type": "stream",
     "text": [
      "176742\n",
      "176742\n",
      "176742\n",
      "176742\n"
     ]
    }
   ],
   "source": [
    "# 5. Again, the population of the (merged) c is still less than L. \n",
    "#    So, we can create new (subsubsub)cases depending on which neighbor is merged into c.\n",
    "for case in cases:\n",
    "    print(case.nodes[c]['TOTPOP'])"
   ]
  },
  {
   "cell_type": "code",
   "execution_count": 16,
   "metadata": {},
   "outputs": [],
   "source": [
    "new_cases = list()\n",
    "\n",
    "for case in cases:\n",
    "    for i in case.neighbors(c):\n",
    "        ipop = case.nodes[i]['TOTPOP']\n",
    "        new_case = nx.contracted_nodes( case, c, i, self_loops=False)\n",
    "        new_case.nodes[c]['TOTPOP'] += ipop\n",
    "        new_cases.append( new_case )\n",
    "        \n",
    "cases = new_cases"
   ]
  },
  {
   "cell_type": "code",
   "execution_count": 17,
   "metadata": {},
   "outputs": [
    {
     "name": "stdout",
     "output_type": "stream",
     "text": [
      "31\n",
      "31\n",
      "31\n",
      "31\n",
      "31\n",
      "31\n",
      "31\n",
      "31\n",
      "31\n",
      "31\n",
      "31\n",
      "31\n"
     ]
    }
   ],
   "source": [
    "# Their cluster_UB's are all 31. So, it is impossible to get 32 clusters!\n",
    "for case in cases:\n",
    "    print(cluster_UB(case,U, k))"
   ]
  },
  {
   "cell_type": "code",
   "execution_count": null,
   "metadata": {},
   "outputs": [],
   "source": []
  }
 ],
 "metadata": {
  "kernelspec": {
   "display_name": "Python 3",
   "language": "python",
   "name": "python3"
  },
  "language_info": {
   "codemirror_mode": {
    "name": "ipython",
    "version": 3
   },
   "file_extension": ".py",
   "mimetype": "text/x-python",
   "name": "python",
   "nbconvert_exporter": "python",
   "pygments_lexer": "ipython3",
   "version": "3.7.10"
  }
 },
 "nbformat": 4,
 "nbformat_minor": 4
}
