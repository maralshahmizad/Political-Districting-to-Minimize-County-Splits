{
 "cells": [
  {
   "cell_type": "code",
   "execution_count": 1,
   "id": "0978d6eb",
   "metadata": {},
   "outputs": [],
   "source": [
    "import networkx as nx\n",
    "from gerrychain import Graph\n",
    "import math\n",
    "import time\n",
    "import gurobipy as gp\n",
    "from gurobipy import GRB\n",
    "\n",
    "from util import update_attributes, get_k_L_U\n",
    "from cluster import is_within_window, find_cluster\n",
    "from separation import labeling_contiguity_callback\n",
    "filepath = 'C:\\\\districting-data-2020\\\\'"
   ]
  },
  {
   "cell_type": "code",
   "execution_count": 2,
   "id": "5c514d23",
   "metadata": {},
   "outputs": [],
   "source": [
    "# finds a nontrivial county clustering (S,V\\S) of the vertices \n",
    "#   (if one exists) under 1-person population deviation\n",
    "#\n",
    "def find_one_person_deviation_clustering(G, k):\n",
    "    \n",
    "    # set L and U\n",
    "    total_population = sum( G.nodes[i]['TOTPOP'] for i in G.nodes )\n",
    "    L = math.floor( total_population / k )\n",
    "    U = math.ceil( total_population / k )\n",
    "    \n",
    "    # first, check if some county plus a subset of its neighborhood fits the bill\n",
    "    for v in G.nodes:\n",
    "        neighborhood = list( G.neighbors(v) ) + [v]\n",
    "        (cluster, size) = find_cluster(G.subgraph( neighborhood ), [v], L, U, k, verify=False)\n",
    "        if cluster is not None:\n",
    "            complement = [ i for i in G.nodes if i not in cluster ]\n",
    "            if len(complement) > 0 and nx.is_connected( G.subgraph(complement) ):\n",
    "                print(\"Found a neighborhood solution around\",G.nodes[v]['NAME20'],\"County.\")\n",
    "                return ( [cluster, complement], [size, k-size] )\n",
    "            \n",
    "    # second, check if some edge plus a subset of its neighborhood fits the bill\n",
    "    for u,v in G.edges:\n",
    "        neighborhood = set( list(G.neighbors(u)) + list(G.neighbors(v)) )                       \n",
    "        (cluster, size) = find_cluster(G.subgraph( neighborhood ), [u,v], L, U, k, verify=False)\n",
    "        if cluster is not None:\n",
    "            complement = [ i for i in G.nodes if i not in cluster ]\n",
    "            if len(complement) > 0 and nx.is_connected( G.subgraph(complement) ):\n",
    "                print(\"Found a neighborhood solution around\",G.nodes[u]['NAME20'],\"and\",G.nodes[v]['NAME20'],\"Counties.\")\n",
    "                return ( [cluster, complement], [size, k-size] )\n",
    "\n",
    "    # build model\n",
    "    m = gp.Model()\n",
    "    \n",
    "    # x[i,j]=1 if vertex i is assigned to cluster j\n",
    "    x = m.addVars(G.nodes, 2, vtype=GRB.BINARY)\n",
    "    m.addConstrs( x[i,0] + x[i,1] == 1 for i in G.nodes )\n",
    "    \n",
    "    # y[j] is size of cluster j\n",
    "    y = m.addVars(2, vtype=GRB.INTEGER)\n",
    "    m.addConstr( y[0] + y[1] == k )\n",
    "    y[1].LB = 1\n",
    "    \n",
    "    # add population balance constraints\n",
    "    for j in range(2):\n",
    "        m.addConstr( gp.quicksum( G.nodes[i]['TOTPOP'] * x[i,j] for i in G.nodes ) >= L * y[j]  )\n",
    "        m.addConstr( gp.quicksum( G.nodes[i]['TOTPOP'] * x[i,j] for i in G.nodes ) <= U * y[j]  )\n",
    "        \n",
    "    # symmetry breaking: fix a particular vertex to be in S, say one with extreme population.\n",
    "    mpop = min( G.nodes[i]['TOTPOP'] for i in G.nodes )\n",
    "    mpv = [ i for i in G.nodes if G.nodes[i]['TOTPOP']==mpop ][0]\n",
    "    x[mpv,0].LB = 1\n",
    "    \n",
    "    # add flow-based contiguity constraints for S (which is rooted at mpv)\n",
    "    M = G.number_of_nodes() - 1\n",
    "    DG = nx.DiGraph(G)\n",
    "    f = m.addVars(DG.edges)\n",
    "    m.addConstrs( gp.quicksum( f[j,i] - f[i,j] for j in G.neighbors(i) ) == x[i,0] for i in G.nodes if i != mpv )\n",
    "    m.addConstrs( gp.quicksum( f[j,i] for j in G.neighbors(i) ) <= M * x[i,0] for i in G.nodes if i != mpv )\n",
    "    m.addConstr( gp.quicksum( f[j,mpv] for j in G.neighbors(mpv) ) == 0 )\n",
    "    \n",
    "    # add cut-based contiguity constraints for V\\S (whose root we do not know a priori)\n",
    "    m.Params.LazyConstraints = 1\n",
    "    m._x = x\n",
    "    m._DG = DG\n",
    "    m._parts = 2\n",
    "    \n",
    "    # add compactness objective: a transportation objective for cluster S, with root at mpv.\n",
    "    dist = nx.shortest_path_length(G, source=mpv)\n",
    "    m.setObjective( gp.quicksum( dist[i] * dist[i] * round(G.nodes[i]['TOTPOP']/1000) * x[i,0] for i in G.nodes ), GRB.MINIMIZE )\n",
    "    \n",
    "    # solve\n",
    "    m.Params.IntFeasTol = 1e-7\n",
    "    m.Params.FeasibilityTol = 1e-7\n",
    "    m.Params.MIPGap = 1.00  # use a large MIP gap, as we are only interested in feasibility\n",
    "    \n",
    "    # try each possible size for cluster S\n",
    "    for size in range(1,k):\n",
    "        y[0].LB = size\n",
    "        y[0].UB = size\n",
    "        m._callback = labeling_contiguity_callback \n",
    "        m.optimize( m._callback )\n",
    "        \n",
    "        if m.solCount > 0:\n",
    "            cluster = [ i for i in G.nodes if x[i,0].x > 0.5 ]\n",
    "            size = round( y[0].x )\n",
    "            complement = [ i for i in G.nodes if x[i,1].x > 0.5 ]\n",
    "            return ( [cluster, complement], [ size, k-size ] )\n",
    "    \n",
    "    return ( [list(G.nodes)], [k] )"
   ]
  },
  {
   "cell_type": "code",
   "execution_count": 3,
   "id": "870a5cce",
   "metadata": {
    "scrolled": true
   },
   "outputs": [
    {
     "name": "stdout",
     "output_type": "stream",
     "text": [
      "**********************************\n",
      "**********************************\n",
      "District_type: SS\n",
      "**********************************\n",
      "**********************************\n",
      "\n",
      "**********************************\n",
      "State: WY\n",
      "**********************************\n",
      "Starting WY with k = 31 and deviation = 0.1\n",
      "Thus, we have L = 17678 and U = 19538\n",
      "Set parameter Username\n",
      "Academic license - for non-commercial use only - expires 2024-01-27\n",
      "Found a neighborhood solution around Natrona and Fremont Counties.\n",
      "**********************************\n",
      "**********************************\n",
      "District_type: SH\n",
      "**********************************\n",
      "**********************************\n",
      "\n",
      "**********************************\n",
      "State: WY\n",
      "**********************************\n",
      "Starting WY with k = 62 and deviation = 0.1\n",
      "Thus, we have L = 8839 and U = 9769\n",
      "Found a neighborhood solution around Weston County.\n"
     ]
    }
   ],
   "source": [
    "from number_of_districts import congressional_districts_2020\n",
    "states = sorted([ state for state in congressional_districts_2020.keys() ])\n",
    "\n",
    "results = dict()\n",
    "\n",
    "for district_type in ['SS', 'SH']:\n",
    "    \n",
    "    print(\"**********************************\")\n",
    "    print(\"**********************************\")\n",
    "    print(\"District_type:\",district_type)\n",
    "    print(\"**********************************\")\n",
    "    print(\"**********************************\")\n",
    "    print(\"\")\n",
    "    \n",
    "    for state in [\"WY\"]:   \n",
    "        \n",
    "        print(\"**********************************\")\n",
    "        print(\"State:\",state)\n",
    "        print(\"**********************************\")\n",
    "\n",
    "        filename = state + '_county.json'\n",
    "        GC = Graph.from_json( filepath + filename )\n",
    "        update_attributes(GC, state)    \n",
    "\n",
    "        (k, L, U) = get_k_L_U(GC, state, district_type)\n",
    "        if k <= 1 or not nx.is_connected(GC):\n",
    "            print(\"Skipping this state because k <= 1 or because G is disconnected.\")\n",
    "            continue\n",
    "\n",
    "        (clusters, sizes) = find_one_person_deviation_clustering(GC, k)\n",
    "        results[state, district_type] = dict()\n",
    "        results[state, district_type]['clusters'] = clusters\n",
    "        results[state, district_type]['sizes'] = sizes"
   ]
  },
  {
   "cell_type": "code",
   "execution_count": 4,
   "id": "e74bce0a",
   "metadata": {},
   "outputs": [
    {
     "name": "stdout",
     "output_type": "stream",
     "text": [
      "state type cluster?\n",
      "WY SS True\n",
      "WY SH True\n"
     ]
    }
   ],
   "source": [
    "print(\"state type cluster?\")\n",
    "for (state, district_type) in results.keys():\n",
    "    sizes = results[state,district_type]['sizes']\n",
    "    print(state, district_type, len(sizes)>1 )"
   ]
  },
  {
   "cell_type": "code",
   "execution_count": 5,
   "id": "c82d9ac4",
   "metadata": {},
   "outputs": [
    {
     "name": "stdout",
     "output_type": "stream",
     "text": [
      "results = {('WY', 'SS'): {'clusters': [[0, 6, 10, 13, 16, 17, 18, 19], [1, 2, 3, 4, 5, 7, 8, 9, 11, 12, 14, 15, 20, 21, 22]], 'sizes': [11, 20]}, ('WY', 'SH'): {'clusters': [[3, 8], [0, 1, 2, 4, 5, 6, 7, 9, 10, 11, 12, 13, 14, 15, 16, 17, 18, 19, 20, 21, 22]], 'sizes': [1, 61]}}\n"
     ]
    }
   ],
   "source": [
    "print(\"results =\",results)"
   ]
  },
  {
   "cell_type": "code",
   "execution_count": 6,
   "id": "ab53d924",
   "metadata": {},
   "outputs": [
    {
     "name": "stdout",
     "output_type": "stream",
     "text": [
      "SS:  1 / 1\n",
      "SH:  1 / 1\n"
     ]
    }
   ],
   "source": [
    "# count_CD = sum( 1 for (state, district_type) in results.keys() if district_type=='CD' )\n",
    "# count_CD_true = sum( 1 for (state, district_type) in results.keys() if district_type=='CD' and len(results[state,district_type]['sizes'])>1 )\n",
    "# print(\"CD: \",count_CD_true,'/', count_CD)\n",
    "\n",
    "count_SS = sum( 1 for (state, district_type) in results.keys() if district_type=='SS' )\n",
    "count_SS_true = sum( 1 for (state, district_type) in results.keys() if district_type=='SS' and  len(results[state,district_type]['sizes'])>1 )\n",
    "print(\"SS: \",count_SS_true,'/', count_SS)\n",
    "\n",
    "count_SH = sum( 1 for (state, district_type) in results.keys() if district_type=='SH' )\n",
    "count_SH_true = sum( 1 for (state, district_type) in results.keys() if district_type=='SH' and  len(results[state,district_type]['sizes'])>1 )\n",
    "print(\"SH: \",count_SH_true,'/', count_SH)"
   ]
  },
  {
   "cell_type": "code",
   "execution_count": 7,
   "id": "f7987653",
   "metadata": {},
   "outputs": [
    {
     "name": "stdout",
     "output_type": "stream",
     "text": [
      "WY & 23 & \\greencheck & \\greencheck\\\\\n"
     ]
    }
   ],
   "source": [
    "# make table\n",
    "for state in [\"WY\"]:\n",
    "    if state == 'HI':\n",
    "        continue\n",
    "    \n",
    "    # state\n",
    "    print(state, end='')\n",
    "    \n",
    "    # num counties\n",
    "    clusters = results[state, 'SS']['clusters']\n",
    "    num_counties = sum( len(cluster) for cluster in clusters )\n",
    "    print(\" &\",num_counties, end='')\n",
    "    \n",
    "    for district_type in ['SS','SH']:\n",
    "        \n",
    "        if (state, district_type) in results.keys():\n",
    "            status = '\\\\greencheck' if len(results[state,district_type]['sizes'])>1 else '\\\\redx'\n",
    "        else:\n",
    "            status = '$\\\\blacksquare$'\n",
    "            \n",
    "        print(\" &\", status, end='')\n",
    "        \n",
    "    print(\"\\\\\\\\\")"
   ]
  },
  {
   "cell_type": "code",
   "execution_count": null,
   "id": "89b0eae2",
   "metadata": {},
   "outputs": [],
   "source": []
  }
 ],
 "metadata": {
  "kernelspec": {
   "display_name": "Python 3",
   "language": "python",
   "name": "python3"
  },
  "language_info": {
   "codemirror_mode": {
    "name": "ipython",
    "version": 3
   },
   "file_extension": ".py",
   "mimetype": "text/x-python",
   "name": "python",
   "nbconvert_exporter": "python",
   "pygments_lexer": "ipython3",
   "version": "3.8.5"
  }
 },
 "nbformat": 4,
 "nbformat_minor": 5
}
